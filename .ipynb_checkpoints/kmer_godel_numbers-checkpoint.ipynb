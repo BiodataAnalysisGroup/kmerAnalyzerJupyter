{
 "cells": [
  {
   "cell_type": "code",
   "execution_count": 4,
   "metadata": {},
   "outputs": [],
   "source": [
    "import pandas as pd\n",
    "import numpy as np\n",
    "import os\n",
    "import operator\n",
    "from nltk.probability import FreqDist, MLEProbDist\n",
    "import math\n",
    "import collections \n",
    "import os"
   ]
  },
  {
   "cell_type": "code",
   "execution_count": 6,
   "metadata": {},
   "outputs": [],
   "source": [
    "# VALUES OF K\n",
    "kvals = list(range(4,10))"
   ]
  },
  {
   "cell_type": "code",
   "execution_count": 5,
   "metadata": {},
   "outputs": [],
   "source": [
    "class OrderedCounter(collections.Counter, collections.OrderedDict):\n",
    "    def __repr__(self):\n",
    "        return \"%s(%r)\" % (self.__class__.__name__, collections.OrderedDict(self))"
   ]
  },
  {
   "cell_type": "code",
   "execution_count": 7,
   "metadata": {},
   "outputs": [],
   "source": [
    "def read_fasta_file(fn):\n",
    "    \n",
    "    data = []\n",
    "    with open(fn, 'r') as fh:\n",
    "        lines = []\n",
    "        for line in fh:\n",
    "            if line[0] != '>':\n",
    "                lines.append(line.rstrip())\n",
    "            else:\n",
    "                data.append(''.join(lines))\n",
    "                lines = []\n",
    "        data.append(''.join(lines))\n",
    "    \n",
    "    del data[0]\n",
    "    return data\n"
   ]
  },
  {
   "cell_type": "code",
   "execution_count": 8,
   "metadata": {},
   "outputs": [],
   "source": [
    "def save_results_to_file(data, name, outputFolder):\n",
    "    \n",
    "    currPath = os.getcwd()\n",
    "    os.chdir(outputFolder)\n",
    "    \n",
    "    if os.path.exists(name):\n",
    "        os.remove(name)\n",
    "    \n",
    "    with open(name, 'w') as f:\n",
    "        for item in data:\n",
    "            f.write(\"%s\\n\" % item)\n",
    "    \n",
    "    os.chdir(currPath)\n",
    "    return"
   ]
  },
  {
   "cell_type": "code",
   "execution_count": 9,
   "metadata": {},
   "outputs": [],
   "source": [
    "def count_kmers(read, k,counts):\n",
    "    # Calculate how many kmers of length k there are\n",
    "    num_kmers = len(read) - k + 1\n",
    "    # Loop over the kmer start positions\n",
    "    for i in range(num_kmers):\n",
    "        # Slice the string to get the kmer\n",
    "        kmer = read[i:i+k]\n",
    "        # Add the kmer to the dictionary if it's not there\n",
    "        if kmer not in counts:\n",
    "            counts[kmer] = 0\n",
    "        # Increment the count for this kmer\n",
    "        counts[kmer] += 1\n",
    "    # Return the final counts\n",
    "    return counts\n"
   ]
  },
  {
   "cell_type": "code",
   "execution_count": 10,
   "metadata": {},
   "outputs": [],
   "source": [
    "def sieve(n):\n",
    "    # Creating the array of prime numbers of k-mer\n",
    "    primes=[]\n",
    "    chkthis = 2\n",
    "    while len(primes) < n:\n",
    "        ptest    = [chkthis for i in primes if chkthis%i == 0]\n",
    "        primes  += [] if ptest else [chkthis]\n",
    "        chkthis += 1\n",
    "    \n",
    "    primes = np.log(primes)\n",
    "    return primes"
   ]
  },
  {
   "cell_type": "code",
   "execution_count": 11,
   "metadata": {},
   "outputs": [],
   "source": [
    "def  godel(read,out_array,godel_numbers):\n",
    "    # Godel numbers in a given read.\n",
    "    # For every string\n",
    "    for elem in read.keys():\n",
    "        point_in_string=0\n",
    "        # If the key is new\n",
    "        if elem not in godel_numbers:\n",
    "            godel_numbers[elem] = 0\n",
    "        # Calculate the godel number for the key\n",
    "        for x in elem:\n",
    "            if x == 'A' or x == 'a':\n",
    "                godel_numbers[elem]+=out_array[point_in_string]*1\n",
    "                point_in_string=point_in_string+1\n",
    "            if x == 'T' or x == 't':\n",
    "                godel_numbers[elem]+=out_array[point_in_string]*4\n",
    "                point_in_string=point_in_string+1\n",
    "            if x == 'G' or x == 'g':\n",
    "                godel_numbers[elem]+=out_array[point_in_string]*3\n",
    "                point_in_string=point_in_string+1\n",
    "            if x == 'C' or x == 'c':\n",
    "                godel_numbers[elem]+=out_array[point_in_string]*2\n",
    "                point_in_string=point_in_string+1\n",
    "    \n",
    "    return godel_numbers"
   ]
  },
  {
   "cell_type": "code",
   "execution_count": 12,
   "metadata": {},
   "outputs": [],
   "source": [
    "# Creating the .txt\n",
    "files = [f for f in os.listdir('input/') if f.endswith('.fasta')]\n",
    "file = files[0]\n",
    "filename = file[0:-6]\n",
    "filename_txt = filename + '.txt'\n",
    "\n",
    "if not os.path.exists('input/'+filename_txt):\n",
    "    data = read_fasta_file('input/' + file)\n",
    "    save_results_to_file(data, filename_txt, 'input')\n",
    "    del data\n",
    "\n"
   ]
  },
  {
   "cell_type": "code",
   "execution_count": 13,
   "metadata": {},
   "outputs": [
    {
     "name": "stdout",
     "output_type": "stream",
     "text": [
      "k = 4\n",
      "k = 5\n",
      "k = 6\n",
      "k = 7\n",
      "k = 8\n",
      "k = 9\n"
     ]
    }
   ],
   "source": [
    "for k in kvals:\n",
    "    print(\"k = {0}\".format(k))\n",
    "    txt_filehandle = open('input/' + filename_txt, \"r\")\n",
    "    # Start with an empty dictionary\n",
    "    counts = {}\n",
    "    for row in txt_filehandle:\n",
    "        counts = count_kmers(row.rstrip(),k,counts)\n",
    "\n",
    "    #Close input file\n",
    "    txt_filehandle.close\n",
    "\n",
    "    # Sort dictionary by value\n",
    "    sorted_counts = dict(sorted(counts.items(), key=operator.itemgetter(1)))\n",
    "    sorted_data=np.array(list(sorted_counts.values()))\n",
    "    #Array of the dictionary keys\n",
    "    sorted_keys=np.array(list(sorted_counts.keys()))\n",
    "    # Count of the class values\n",
    "    counter=OrderedCounter(sorted_data)\n",
    "    # Count of the frequency of each class\n",
    "    counter_class=OrderedCounter(counter.keys())\n",
    "    # Array of the classes\n",
    "    classes={}\n",
    "    classes=[count for n,count in counter.items() for i in range(count)]\n",
    "\n",
    "    #Calculate entropy with nltk library\n",
    "    freq_dist = FreqDist(sorted_counts)\n",
    "    prob_dist = MLEProbDist(freq_dist)\n",
    "    px = [prob_dist.prob(x) for x,n_x in sorted_counts.items()]\n",
    "    e_x = [-p_x*math.log(p_x,2) for p_x in px]\n",
    "\n",
    "    # Calculate Godel Numbers\n",
    "    prime_numbers=sieve(k)\n",
    "    godel_numbers={}\n",
    "    godel_numbers=godel(sorted_counts,prime_numbers,godel_numbers)\n",
    "    del prime_numbers\n",
    "    \n",
    "    if not os.path.exists('results'):\n",
    "        os.makedirs('results')\n",
    "\n",
    "    # Create info file\n",
    "    info = open(\"results/info_k_{0}.txt\".format(k),\"w\")\n",
    "    df_data = pd.DataFrame({'K-mer':sorted_keys,'Value':sorted_data,'Godel_number':np.array(list(godel_numbers.values())),'Entropy':e_x}) \n",
    "    info.write(df_data.to_string())\n",
    "    info.close()\n"
   ]
  },
  {
   "cell_type": "code",
   "execution_count": null,
   "metadata": {},
   "outputs": [],
   "source": []
  },
  {
   "cell_type": "code",
   "execution_count": null,
   "metadata": {},
   "outputs": [],
   "source": []
  }
 ],
 "metadata": {
  "kernelspec": {
   "display_name": "Python 3",
   "language": "python",
   "name": "python3"
  },
  "language_info": {
   "codemirror_mode": {
    "name": "ipython",
    "version": 3
   },
   "file_extension": ".py",
   "mimetype": "text/x-python",
   "name": "python",
   "nbconvert_exporter": "python",
   "pygments_lexer": "ipython3",
   "version": "3.8.3"
  }
 },
 "nbformat": 4,
 "nbformat_minor": 4
}
